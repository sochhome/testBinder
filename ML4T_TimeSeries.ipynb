{
 "cells": [
  {
   "cell_type": "code",
   "execution_count": 1,
   "metadata": {},
   "outputs": [],
   "source": [
    "# Machine Learning for Trading - Udacity Lession 5 4\n"
   ]
  },
  {
   "cell_type": "code",
   "execution_count": 2,
   "metadata": {},
   "outputs": [],
   "source": [
    "\n",
    "import os\n",
    "import pandas as pd\n",
    "import matplotlib.pyplot as plt"
   ]
  },
  {
   "cell_type": "code",
   "execution_count": 3,
   "metadata": {},
   "outputs": [],
   "source": [
    "def symbol_to_path(symbol, base_dir=\"datafile\"):\n",
    "    \"\"\"Return CSV file path given ticker symbol.\"\"\"\n",
    "    return os.path.join(base_dir, \"yahoo_{}_2017.csv\".format(str(symbol)))"
   ]
  },
  {
   "cell_type": "code",
   "execution_count": 4,
   "metadata": {},
   "outputs": [],
   "source": [
    "def get_data(symbols, dates):\n",
    "    \"\"\"Read stock data (adjusted close) for given symbols from CSV files.\"\"\"\n",
    "    df = pd.DataFrame(index=dates)\n",
    "  #  if 'SPY' not in symbols:  # add SPY for reference, if absent\n",
    "   #     symbols.insert(0, 'SPY')\n",
    "\n",
    "    for symbol in symbols:\n",
    "        # TODO: Read and join data for each symbol        \n",
    "        df_temp = pd.read_csv(symbol_to_path(symbol), dayfirst=True, index_col= \"Date\", parse_dates=True, usecols= ['Date','Adj Close'], na_values=['nan'])\n",
    "        df_temp = df_temp.rename(columns={'Adj Close':symbol})\n",
    "        df = df.join(df_temp, how='inner')\n",
    "\n",
    "    return df"
   ]
  },
  {
   "cell_type": "code",
   "execution_count": 7,
   "metadata": {},
   "outputs": [
    {
     "data": {
      "text/plain": [
       "'\\n    # 2. Compute rolling standard deviation\\n    rstd_MSFT = get_rolling_std(df[\\'MSFT\\'], window=20)\\n\\n    # 3. Compute upper and lower bands\\n    upper_band, lower_band = get_bollinger_bands(rm_MSFT, rstd_MSFT)\\n    \\n    # Plot raw SPY values, rolling mean and Bollinger Bands\\n    ax = df[\\'MSFT\\'].plot(title=\"Bollinger Bands\", label=\\'MSFT\\')\\n    #rm_MSFT.plot(label=\\'Rolling mean\\', ax=ax)\\n    upper_band.plot(label=\\'upper band\\', ax=ax)\\n    lower_band.plot(label=\\'lower band\\', ax=ax)\\n\\n    ax.set_xlabel(\"Data\")\\n    ax.set_ylabel(\"Price\")\\n    ax.legend(loc=\\'upper left\\')\\n    plt.show()\\n\\n        # Compute daily returns\\n    daily_returns = compute_daily_returns(df[[\\'MSFT\\',\\'AAPL\\']])\\n    plot_data(daily_returns, title=\"Daily returns\", ylabel=\"Daily returns\")\\n    '"
      ]
     },
     "execution_count": 7,
     "metadata": {},
     "output_type": "execute_result"
    }
   ],
   "source": [
    "def test_run():\n",
    "    # Define a date range\n",
    "    dates = pd.date_range('2017-01-01', '2017-12-31')\n",
    "\n",
    "    # Choose stock symbols to read\n",
    "    symbols = ['AAPL', 'GSPC', 'MSFT']\n",
    "    \n",
    "    # Get stock data\n",
    "    df = get_data(symbols, dates)\n",
    "    \n",
    "        # Slice\n",
    "    print(df.ix['2017-01-18':'2017-01-24',['MSFT', 'AAPL']])\n",
    "    print(df.head(10))\n",
    "\n",
    "    #plot_data(df)\n",
    "    #plot_data(normalize_data(df))\n",
    "\n",
    "    # Statistics\n",
    "    print(\"Mean: \\n\", df.mean())\n",
    "    print(\"Medium: \\n\", df.median())\n",
    "    print(\"Std Dev: \\n\", df.std())\n",
    "\n",
    "    #symbols = ['MSFT']\n",
    "    #df = get_data(symbols, dates)\n",
    "\n",
    "    ax= df['MSFT'].plot(title='MS rolling mean', label='MSFT')\n",
    "    \n",
    "    # Compute and plot rolling mean\n",
    "    # rm_SPY = pd.rolling_mean(df['MSFT'], window=20)\n",
    "    rm_MSFT = df['MSFT'].rolling(window=20).mean()\n",
    "     \n",
    "    rm_MSFT.plot(label='Rolling mean', ax=ax)\n",
    "'''\n",
    "    # 2. Compute rolling standard deviation\n",
    "    rstd_MSFT = get_rolling_std(df['MSFT'], window=20)\n",
    "\n",
    "    # 3. Compute upper and lower bands\n",
    "    upper_band, lower_band = get_bollinger_bands(rm_MSFT, rstd_MSFT)\n",
    "    \n",
    "    # Plot raw SPY values, rolling mean and Bollinger Bands\n",
    "    ax = df['MSFT'].plot(title=\"Bollinger Bands\", label='MSFT')\n",
    "    #rm_MSFT.plot(label='Rolling mean', ax=ax)\n",
    "    upper_band.plot(label='upper band', ax=ax)\n",
    "    lower_band.plot(label='lower band', ax=ax)\n",
    "\n",
    "    ax.set_xlabel(\"Data\")\n",
    "    ax.set_ylabel(\"Price\")\n",
    "    ax.legend(loc='upper left')\n",
    "    plt.show()\n",
    "\n",
    "        # Compute daily returns\n",
    "    daily_returns = compute_daily_returns(df[['MSFT','AAPL']])\n",
    "    plot_data(daily_returns, title=\"Daily returns\", ylabel=\"Daily returns\")\n",
    "    '''"
   ]
  },
  {
   "cell_type": "code",
   "execution_count": 8,
   "metadata": {},
   "outputs": [
    {
     "name": "stderr",
     "output_type": "stream",
     "text": [
      "C:\\ProgramData\\Anaconda3\\lib\\site-packages\\ipykernel_launcher.py:12: FutureWarning: \n",
      ".ix is deprecated. Please use\n",
      ".loc for label based indexing or\n",
      ".iloc for positional indexing\n",
      "\n",
      "See the documentation here:\n",
      "http://pandas.pydata.org/pandas-docs/stable/user_guide/indexing.html#ix-indexer-is-deprecated\n",
      "  if sys.path[0] == '':\n"
     ]
    },
    {
     "name": "stdout",
     "output_type": "stream",
     "text": [
      "                 MSFT        AAPL\n",
      "2017-01-18  59.618385  115.403008\n",
      "2017-01-19  59.427597  115.201050\n",
      "2017-01-20  59.847321  115.412643\n",
      "2017-01-23  60.057171  115.489578\n",
      "2017-01-24  60.591358  115.383789\n",
      "                  AAPL         GSPC       MSFT\n",
      "2017-01-03  111.709831  2257.830078  59.694695\n",
      "2017-01-04  111.584778  2270.750000  59.427597\n",
      "2017-01-05  112.152229  2269.000000  59.427597\n",
      "2017-01-06  113.402542  2276.979980  59.942703\n",
      "2017-01-09  114.441246  2268.899902  59.751923\n",
      "2017-01-10  114.556656  2268.899902  59.732849\n",
      "2017-01-11  115.172195  2275.320068  60.276566\n",
      "2017-01-12  114.691307  2270.439941  59.723312\n",
      "2017-01-13  114.489334  2274.639893  59.809166\n",
      "2017-01-17  115.412643  2267.889893  59.646996\n",
      "Mean: \n",
      " AAPL     146.107325\n",
      "GSPC    2449.076379\n",
      "MSFT      69.510333\n",
      "dtype: float64\n",
      "Medium: \n",
      " AAPL     147.952927\n",
      "GSPC    2436.100098\n",
      "MSFT      68.672417\n",
      "dtype: float64\n",
      "Std Dev: \n",
      " AAPL     14.827570\n",
      "GSPC    109.417247\n",
      "MSFT      7.198216\n",
      "dtype: float64\n"
     ]
    },
    {
     "data": {
      "image/png": "[encoded data removed]",
      "text/plain": [
       "<Figure size 432x288 with 1 Axes>"
      ]
     },
     "metadata": {
      "needs_background": "light"
     },
     "output_type": "display_data"
    }
   ],
   "source": [
    "if __name__ == \"__main__\":\n",
    "    test_run()"
   ]
  },
  {
   "cell_type": "code",
   "execution_count": null,
   "metadata": {},
   "outputs": [],
   "source": []
  }
 ],
 "metadata": {
  "kernelspec": {
   "display_name": "Python 3",
   "language": "python",
   "name": "python3"
  },
  "language_info": {
   "codemirror_mode": {
    "name": "ipython",
    "version": 3
   },
   "file_extension": ".py",
   "mimetype": "text/x-python",
   "name": "python",
   "nbconvert_exporter": "python",
   "pygments_lexer": "ipython3",
   "version": "3.7.4"
  }
 },
 "nbformat": 4,
 "nbformat_minor": 2
}
